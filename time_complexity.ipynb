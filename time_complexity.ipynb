{
 "cells": [
  {
   "cell_type": "code",
   "execution_count": 167,
   "id": "019adb2a",
   "metadata": {},
   "outputs": [],
   "source": [
    "import time\n",
    "import sys\n",
    "import numpy as np\n",
    "import pandas as pd\n",
    "import matplotlib.pyplot as plt\n",
    "import random\n",
    "from tqdm.notebook import tqdm\n",
    "\n",
    "%matplotlib inline\n",
    "\n",
    "sys.setrecursionlimit(100_000_000)"
   ]
  },
  {
   "cell_type": "code",
   "execution_count": 1,
   "id": "49e62849",
   "metadata": {},
   "outputs": [],
   "source": [
    "def factorial(number):\n",
    "    total = 1\n",
    "    while number > 1:\n",
    "        total *= number\n",
    "        number -= 1\n",
    "    return total\n",
    "\n",
    "# O(n)"
   ]
  },
  {
   "cell_type": "code",
   "execution_count": 3,
   "id": "53558a62",
   "metadata": {},
   "outputs": [],
   "source": [
    "def factorial_r(number):\n",
    "    if number == 1:\n",
    "        return 1\n",
    "    return number * factorial_r(number - 1)\n",
    "\n",
    "# O(n)"
   ]
  },
  {
   "cell_type": "code",
   "execution_count": 4,
   "id": "a0959f32",
   "metadata": {},
   "outputs": [],
   "source": [
    "def run(number):\n",
    "    #print(\"-----\")\n",
    "    #print(number)\n",
    "    start = time.time()\n",
    "    factorial(number)\n",
    "    end_factorial = time.time() - start\n",
    "    arr_loop.append([number, end_factorial])\n",
    "    #print(end_factorial)\n",
    "    start = time.time()\n",
    "    factorial_r(number)\n",
    "    end_recursive = time.time() - start\n",
    "    arr_recursive.append([number, end_recursive])\n",
    "    #print(end_recursive)"
   ]
  },
  {
   "cell_type": "code",
   "execution_count": 5,
   "id": "c3945137",
   "metadata": {},
   "outputs": [],
   "source": [
    "arr_loop = []\n",
    "arr_recursive = []\n",
    "flag = True\n",
    "num = 1_000\n",
    "\n",
    "while flag == True:\n",
    "    num += 1_000\n",
    "    if num >= 20_000:\n",
    "        flag = False\n",
    "    run(num)\n",
    "    "
   ]
  },
  {
   "cell_type": "code",
   "execution_count": 57,
   "id": "0544b5de",
   "metadata": {},
   "outputs": [],
   "source": [
    "def graph(first_arr, second_arr, label_one, label_two, title):\n",
    "    x_one = [item[0] for item in first_arr]\n",
    "    y_one = [item[1] for item in first_arr]\n",
    "    x_two = [item[0] for item in second_arr]\n",
    "    y_two = [item[1] for item in second_arr]\n",
    "\n",
    "    plt.plot(x_one, y_one, label=label_one)\n",
    "    plt.plot(x_two, y_two, label=label_two)\n",
    "\n",
    "    # Add labels to the x and y axes\n",
    "    plt.xlabel('Items')\n",
    "    plt.ylabel('time')\n",
    "\n",
    "    # Add a title to the plot\n",
    "    plt.title(title)\n",
    "\n",
    "    # Add a legend to the plot\n",
    "    plt.legend()\n",
    "\n",
    "    # Display the plot\n",
    "    plt.show()"
   ]
  },
  {
   "cell_type": "code",
   "execution_count": 58,
   "id": "1b6b2eaf",
   "metadata": {},
   "outputs": [
    {
     "data": {
      "image/png": "[encoded data removed]",
      "text/plain": [
       "<Figure size 432x288 with 1 Axes>"
      ]
     },
     "metadata": {
      "needs_background": "light"
     },
     "output_type": "display_data"
    }
   ],
   "source": [
    "graph(arr_loop, arr_recursive, \"Loop\", \"Recursive\", \"loop vs recursive\")"
   ]
  },
  {
   "cell_type": "code",
   "execution_count": null,
   "id": "ee8e9b3f",
   "metadata": {},
   "outputs": [],
   "source": [
    "def f(x):\n",
    "    hola = \"uno\"\n",
    "    \n",
    "    for i in range(1000):\n",
    "        print(i)\n",
    "    \n",
    "    for i in range(x):\n",
    "        print(i)\n",
    "        \n",
    "    for i in range(x):\n",
    "        for j in range(x):\n",
    "            print(i)\n",
    "            print(j)\n",
    "            \n",
    "    return i\n",
    "\n",
    "#O (n ** 2)"
   ]
  },
  {
   "cell_type": "markdown",
   "id": "7bee7306",
   "metadata": {},
   "source": [
    "# Big O notation"
   ]
  },
  {
   "cell_type": "code",
   "execution_count": 189,
   "id": "5dd20667",
   "metadata": {},
   "outputs": [],
   "source": [
    "def hello(name):\n",
    "    print(\"hello \" + name )\n",
    "    \n",
    "# O(1)"
   ]
  },
  {
   "cell_type": "code",
   "execution_count": 15,
   "id": "ade89202",
   "metadata": {},
   "outputs": [],
   "source": [
    "def search(n, target):\n",
    "    for i in n:\n",
    "        if target == i:\n",
    "            return True\n",
    "    return False\n",
    "\n",
    "# O(n)"
   ]
  },
  {
   "cell_type": "code",
   "execution_count": null,
   "id": "3896f433",
   "metadata": {},
   "outputs": [],
   "source": [
    "def for_anidated(n):\n",
    "    for i in n:\n",
    "        for x in n:\n",
    "            print(i,x)\n",
    "# O(n**2)"
   ]
  },
  {
   "cell_type": "code",
   "execution_count": 17,
   "id": "5483ddcf",
   "metadata": {},
   "outputs": [],
   "source": [
    "def log_def(value):\n",
    "    if value <= 0:\n",
    "        return 0\n",
    "    arr_value = value // 2\n",
    "    log_def(arr_value)\n",
    "\n",
    "# O(log n)"
   ]
  },
  {
   "cell_type": "code",
   "execution_count": 18,
   "id": "a569a514",
   "metadata": {},
   "outputs": [
    {
     "name": "stdout",
     "output_type": "stream",
     "text": [
      "2 0\n",
      "2 1\n",
      "2 2\n",
      "2 3\n",
      "1 0\n",
      "1 1\n",
      "1 2\n",
      "1 3\n",
      "0 0\n",
      "0 1\n",
      "0 2\n",
      "0 3\n"
     ]
    }
   ],
   "source": [
    "def log_complex(n):\n",
    "    store_len = n    \n",
    "    while n > 0:\n",
    "        n = n // 2\n",
    "        for i in range(store_len):\n",
    "            print(n, i)\n",
    "\n",
    "log_complex(4)\n",
    "\n",
    "# O(n log n)"
   ]
  },
  {
   "cell_type": "code",
   "execution_count": 7,
   "id": "c28ef96a",
   "metadata": {},
   "outputs": [],
   "source": [
    "def fibonnaci(n):\n",
    "    if n <= 1:\n",
    "        return n\n",
    "    else:\n",
    "        return fibonnaci(n-1) + fibonnaci(n-2)\n",
    "\n",
    "# O(2**n)"
   ]
  },
  {
   "cell_type": "code",
   "execution_count": 9,
   "id": "d2868a62",
   "metadata": {
    "collapsed": true
   },
   "outputs": [
    {
     "name": "stdout",
     "output_type": "stream",
     "text": [
      "0\n",
      "1\n",
      "1\n",
      "2\n",
      "3\n",
      "5\n",
      "8\n",
      "13\n",
      "21\n",
      "34\n",
      "55\n",
      "89\n",
      "144\n",
      "233\n",
      "377\n",
      "610\n"
     ]
    }
   ],
   "source": [
    "for i in range(16):\n",
    "    print(fibonnaci(i))\n"
   ]
  },
  {
   "cell_type": "markdown",
   "id": "83f18921",
   "metadata": {},
   "source": [
    "# Search "
   ]
  },
  {
   "cell_type": "code",
   "execution_count": 113,
   "id": "d7ce025b",
   "metadata": {},
   "outputs": [],
   "source": [
    "def linear_search(list_numbers, objective):\n",
    "    finded = False\n",
    "    iteration = 0\n",
    "    for count, item in enumerate(list_numbers):\n",
    "        iteration = count\n",
    "        if item == objective:\n",
    "            finded = True\n",
    "            break\n",
    "    return finded, iteration\n",
    "\n",
    "# O(n)"
   ]
  },
  {
   "cell_type": "code",
   "execution_count": 2,
   "id": "e320486a",
   "metadata": {},
   "outputs": [],
   "source": [
    "def binary_search(list_to_search, start, end, find_number, number_iter=0):\n",
    "    #print(\"------\")\n",
    "    #print(start, end, find_number)\n",
    "    number_iter += 1\n",
    "    if start >= end:\n",
    "        return False, number_iter\n",
    "    middle = (start + end) // 2\n",
    "    if list_to_search[middle] == find_number:\n",
    "        return True, number_iter\n",
    "    elif list_to_search[middle] < find_number:\n",
    "        return binary_search(list_to_search, middle + 1, end, find_number, number_iter)\n",
    "    else:\n",
    "        return binary_search(list_to_search, start, middle - 1, find_number, number_iter)\n",
    "\n",
    "#O(log n)"
   ]
  },
  {
   "cell_type": "code",
   "execution_count": 168,
   "id": "340488ab",
   "metadata": {},
   "outputs": [],
   "source": [
    "def generate_rand(start, end, numbers):\n",
    "    list_size = random.randint(start, end)\n",
    "    target = random.randint(0, numbers)\n",
    "    list_to_search = [random.randint(0, numbers) for i in range(list_size)]\n",
    "    return list_to_search, target, list_size\n",
    "\n",
    "def generate_list():\n",
    "    list_size = random.randint(1_000, 600_000)\n",
    "    target = random.randint(1_000, 600_000)\n",
    "    list_to_search = [i for i in range(list_size)]\n",
    "    return list_to_search, target, list_size"
   ]
  },
  {
   "cell_type": "code",
   "execution_count": 117,
   "id": "c7fcf7f4",
   "metadata": {},
   "outputs": [],
   "source": [
    "def find_linear(list_to_search, find_number):\n",
    "    start = time.time()\n",
    "    finded, iterations = linear_search(list_to_search, find_number)\n",
    "    end = time.time() - start\n",
    "    return end, iterations\n",
    "\n",
    "def find_binary(list_to_search, find_number):\n",
    "    start = time.time()\n",
    "    finded, iterations = binary_search(list_to_search, 0, len(list_to_search), find_number)\n",
    "    end = time.time() - start\n",
    "    return end, iterations\n"
   ]
  },
  {
   "cell_type": "code",
   "execution_count": 118,
   "id": "d7f14ade",
   "metadata": {},
   "outputs": [],
   "source": [
    "arr_linear = []\n",
    "arr_binary = []\n",
    "arr_iter = []\n",
    "\n",
    "def search():\n",
    "    for i in range(100):\n",
    "        # Random \n",
    "        #list_to_search, target, list_size = generate_rand()\n",
    "        #Linear\n",
    "        list_to_search, target, list_size = generate_list()\n",
    "        \n",
    "        time_linear, iteration_linar = find_linear(list_to_search, target)\n",
    "        arr_linear.append([list_size, time_linear])\n",
    "        \n",
    "        time_binary, iteration_binary = find_binary(list_to_search, target)\n",
    "        arr_binary.append([list_size, time_binary])\n",
    "        \n",
    "        arr_iter.append([iteration_linar, iteration_binary])\n",
    "\n"
   ]
  },
  {
   "cell_type": "code",
   "execution_count": 125,
   "id": "642b4e8b",
   "metadata": {},
   "outputs": [],
   "source": [
    "search()"
   ]
  },
  {
   "cell_type": "code",
   "execution_count": 120,
   "id": "dcd67155",
   "metadata": {
    "collapsed": true
   },
   "outputs": [
    {
     "data": {
      "text/plain": [
       "[[399766, 19],\n",
       " [56740, 16],\n",
       " [36442, 17],\n",
       " [138976, 19],\n",
       " [184753, 18],\n",
       " [387682, 20],\n",
       " [309351, 17],\n",
       " [140546, 18],\n",
       " [123075, 17],\n",
       " [204354, 17],\n",
       " [119969, 17],\n",
       " [181458, 18],\n",
       " [82438, 16],\n",
       " [155441, 15],\n",
       " [512599, 19],\n",
       " [12315, 14],\n",
       " [94057, 17],\n",
       " [324004, 19],\n",
       " [341683, 19],\n",
       " [135689, 18],\n",
       " [464033, 19],\n",
       " [205474, 18],\n",
       " [62926, 19],\n",
       " [187490, 14],\n",
       " [473927, 20],\n",
       " [397813, 17],\n",
       " [366990, 19],\n",
       " [15655, 14],\n",
       " [279023, 19],\n",
       " [278957, 19],\n",
       " [125187, 17],\n",
       " [71008, 18],\n",
       " [254200, 18],\n",
       " [476053, 19],\n",
       " [279607, 19],\n",
       " [54530, 19],\n",
       " [159384, 16],\n",
       " [47865, 16],\n",
       " [112138, 17],\n",
       " [450005, 19],\n",
       " [55951, 16],\n",
       " [112046, 17],\n",
       " [143568, 18],\n",
       " [46753, 16],\n",
       " [55482, 17],\n",
       " [6532, 13],\n",
       " [175718, 18],\n",
       " [231484, 18],\n",
       " [301498, 19],\n",
       " [158910, 18],\n",
       " [152348, 19],\n",
       " [224857, 19],\n",
       " [467791, 18],\n",
       " [128095, 19],\n",
       " [222947, 18],\n",
       " [132422, 19],\n",
       " [324396, 19],\n",
       " [55938, 16],\n",
       " [250129, 18],\n",
       " [268963, 18],\n",
       " [266168, 19],\n",
       " [188442, 18],\n",
       " [135969, 18],\n",
       " [73955, 17],\n",
       " [390647, 19],\n",
       " [55791, 16],\n",
       " [479100, 19],\n",
       " [204973, 18],\n",
       " [289428, 19],\n",
       " [29907, 15],\n",
       " [158398, 19],\n",
       " [95140, 17],\n",
       " [463729, 19],\n",
       " [502437, 19],\n",
       " [5518, 13],\n",
       " [322268, 16],\n",
       " [237502, 18],\n",
       " [459291, 18],\n",
       " [56367, 18],\n",
       " [347016, 18],\n",
       " [96193, 19],\n",
       " [144905, 16],\n",
       " [103822, 17],\n",
       " [255272, 19],\n",
       " [5355, 15],\n",
       " [342093, 19],\n",
       " [24132, 15],\n",
       " [322944, 19],\n",
       " [13412, 14],\n",
       " [137495, 16],\n",
       " [508204, 19],\n",
       " [495315, 19],\n",
       " [274378, 17],\n",
       " [166795, 19],\n",
       " [381594, 19],\n",
       " [405815, 19],\n",
       " [255435, 18],\n",
       " [66298, 17],\n",
       " [124972, 19],\n",
       " [149107, 19]]"
      ]
     },
     "execution_count": 120,
     "metadata": {},
     "output_type": "execute_result"
    }
   ],
   "source": [
    "arr_iter"
   ]
  },
  {
   "cell_type": "code",
   "execution_count": 126,
   "id": "6ddf52fd",
   "metadata": {},
   "outputs": [],
   "source": [
    "arr_linear_sorted = sorted(arr_linear, key=lambda x: x[0])\n",
    "arr_binary_sorted = sorted(arr_binary, key=lambda x: x[0])"
   ]
  },
  {
   "cell_type": "code",
   "execution_count": 127,
   "id": "fceb8750",
   "metadata": {},
   "outputs": [
    {
     "data": {
      "image/png": "[encoded data removed]",
      "text/plain": [
       "<Figure size 432x288 with 1 Axes>"
      ]
     },
     "metadata": {
      "needs_background": "light"
     },
     "output_type": "display_data"
    }
   ],
   "source": [
    "graph(arr_linear_sorted, arr_binary_sorted, \"Linear\", \"Binary\", \"Linear vs Binary\")"
   ]
  },
  {
   "cell_type": "markdown",
   "id": "e2404639",
   "metadata": {},
   "source": [
    "# Sort types"
   ]
  },
  {
   "cell_type": "code",
   "execution_count": 194,
   "id": "a43cbfe9",
   "metadata": {},
   "outputs": [],
   "source": [
    "list_rand, none, none = generate_rand(0, 20, 100)"
   ]
  },
  {
   "cell_type": "markdown",
   "id": "787b021a",
   "metadata": {},
   "source": [
    "## Buble Sort\n",
    "compare each element with the next element, if it's bigger swap"
   ]
  },
  {
   "cell_type": "code",
   "execution_count": 181,
   "id": "4b8f85ba",
   "metadata": {},
   "outputs": [],
   "source": [
    "def bubble_sort(list_to_order):\n",
    "    n = len(list_to_order)\n",
    "    for i in range(n):\n",
    "        for j in range(0, n - i -1):\n",
    "            if list_to_order[j] > list_to_order[j + 1]:\n",
    "                list_to_order[j], list_to_order[j + 1] = list_to_order[j + 1], list_to_order[j]\n",
    "    return list_to_order\n",
    "\n",
    "# O(n**2)"
   ]
  },
  {
   "cell_type": "code",
   "execution_count": 182,
   "id": "9f0988e6",
   "metadata": {},
   "outputs": [
    {
     "name": "stdout",
     "output_type": "stream",
     "text": [
      "CPU times: user 0 ns, sys: 0 ns, total: 0 ns\n",
      "Wall time: 9.78 µs\n"
     ]
    }
   ],
   "source": [
    "%time\n",
    "ordered_list = bubble_sort(list_rand.copy())"
   ]
  },
  {
   "cell_type": "code",
   "execution_count": 183,
   "id": "ae18d8ec",
   "metadata": {
    "scrolled": true
   },
   "outputs": [
    {
     "name": "stdout",
     "output_type": "stream",
     "text": [
      "[59, 51, 23, 88, 16, 43, 74, 64, 47]\n",
      "[16, 23, 43, 47, 51, 59, 64, 74, 88]\n"
     ]
    }
   ],
   "source": [
    "print(list_rand)\n",
    "print(ordered_list)"
   ]
  },
  {
   "cell_type": "markdown",
   "id": "b8d97dc9",
   "metadata": {},
   "source": [
    "## Insertion sort\n",
    "no need for extra memory resources, it's ordered in it's place\n",
    "see the element and compare with each previous elements and insert in the correct place"
   ]
  },
  {
   "cell_type": "code",
   "execution_count": 184,
   "id": "7edce79f",
   "metadata": {},
   "outputs": [],
   "source": [
    "def insertion_sort(arr):\n",
    "    for i in range(1, len(arr)):\n",
    "        key = arr[i]\n",
    "        j = i - 1\n",
    "        while j >= 0 and arr[j] > key:\n",
    "            arr[j + 1] = arr[j]\n",
    "            j -= 1\n",
    "        arr[j + 1] = key\n",
    "    return arr\n",
    "        \n",
    "#O(n**2)"
   ]
  },
  {
   "cell_type": "code",
   "execution_count": 185,
   "id": "e6a7cd38",
   "metadata": {},
   "outputs": [
    {
     "name": "stdout",
     "output_type": "stream",
     "text": [
      "CPU times: user 0 ns, sys: 0 ns, total: 0 ns\n",
      "Wall time: 9.3 µs\n"
     ]
    }
   ],
   "source": [
    "%time\n",
    "ordered_list = insertion_sort(list_rand.copy())"
   ]
  },
  {
   "cell_type": "code",
   "execution_count": 186,
   "id": "17e1cd08",
   "metadata": {},
   "outputs": [
    {
     "name": "stdout",
     "output_type": "stream",
     "text": [
      "[59, 51, 23, 88, 16, 43, 74, 64, 47]\n",
      "[16, 23, 43, 47, 51, 59, 64, 74, 88]\n"
     ]
    }
   ],
   "source": [
    "print(list_rand)\n",
    "print(ordered_list)"
   ]
  },
  {
   "cell_type": "markdown",
   "id": "68340b7c",
   "metadata": {},
   "source": [
    "## Merge sort\n",
    "split the list until it's one - zero elements and then compare each list and merge\n",
    "best time complexity to sort"
   ]
  },
  {
   "cell_type": "code",
   "execution_count": 196,
   "id": "2749825a",
   "metadata": {},
   "outputs": [],
   "source": [
    "def merge_sort(list_to_order, debug=False):\n",
    "    if len(list_to_order) > 1:\n",
    "        middle = len(list_to_order) // 2\n",
    "        left = list_to_order[:middle]\n",
    "        right = list_to_order[middle:]\n",
    "        if debug:\n",
    "            print(left, '*'*5, right)\n",
    "        \n",
    "        merge_sort(left, debug)\n",
    "        merge_sort(right, debug)\n",
    "        i = 0\n",
    "        j = 0\n",
    "        k = 0\n",
    "        \n",
    "        while i < len(left) and j < len(right):\n",
    "            if left[i] < right[j]:\n",
    "                list_to_order[k] = left[i]\n",
    "                i += 1\n",
    "            else:\n",
    "                list_to_order[k] = right[j]\n",
    "                j += 1\n",
    "            k += 1\n",
    "            \n",
    "        while i < len(left):\n",
    "            list_to_order[k] = left[i]\n",
    "            i += 1\n",
    "            k += 1\n",
    "            \n",
    "        while j < len(right):\n",
    "            list_to_order[k] = right[j]\n",
    "            j += 1\n",
    "            k += 1\n",
    "        if debug:\n",
    "            print(f'Left: {left} -- Right: {right}')\n",
    "            print(list_to_order)\n",
    "            print(\"-\"*5)\n",
    "    return list_to_order\n",
    "\n",
    "# O(n log n)"
   ]
  },
  {
   "cell_type": "code",
   "execution_count": 198,
   "id": "340dc0a2",
   "metadata": {},
   "outputs": [
    {
     "name": "stdout",
     "output_type": "stream",
     "text": [
      "CPU times: user 0 ns, sys: 0 ns, total: 0 ns\n",
      "Wall time: 10.3 µs\n",
      "[28, 23, 90, 31, 83, 53] ***** [51, 75, 11, 10, 63, 26, 75]\n",
      "[28, 23, 90] ***** [31, 83, 53]\n",
      "[28] ***** [23, 90]\n",
      "[23] ***** [90]\n",
      "Left: [23] -- Right: [90]\n",
      "[23, 90]\n",
      "-----\n",
      "Left: [28] -- Right: [23, 90]\n",
      "[23, 28, 90]\n",
      "-----\n",
      "[31] ***** [83, 53]\n",
      "[83] ***** [53]\n",
      "Left: [83] -- Right: [53]\n",
      "[53, 83]\n",
      "-----\n",
      "Left: [31] -- Right: [53, 83]\n",
      "[31, 53, 83]\n",
      "-----\n",
      "Left: [23, 28, 90] -- Right: [31, 53, 83]\n",
      "[23, 28, 31, 53, 83, 90]\n",
      "-----\n",
      "[51, 75, 11] ***** [10, 63, 26, 75]\n",
      "[51] ***** [75, 11]\n",
      "[75] ***** [11]\n",
      "Left: [75] -- Right: [11]\n",
      "[11, 75]\n",
      "-----\n",
      "Left: [51] -- Right: [11, 75]\n",
      "[11, 51, 75]\n",
      "-----\n",
      "[10, 63] ***** [26, 75]\n",
      "[10] ***** [63]\n",
      "Left: [10] -- Right: [63]\n",
      "[10, 63]\n",
      "-----\n",
      "[26] ***** [75]\n",
      "Left: [26] -- Right: [75]\n",
      "[26, 75]\n",
      "-----\n",
      "Left: [10, 63] -- Right: [26, 75]\n",
      "[10, 26, 63, 75]\n",
      "-----\n",
      "Left: [11, 51, 75] -- Right: [10, 26, 63, 75]\n",
      "[10, 11, 26, 51, 63, 75, 75]\n",
      "-----\n",
      "Left: [23, 28, 31, 53, 83, 90] -- Right: [10, 11, 26, 51, 63, 75, 75]\n",
      "[10, 11, 23, 26, 28, 31, 51, 53, 63, 75, 75, 83, 90]\n",
      "-----\n"
     ]
    }
   ],
   "source": [
    "%time\n",
    "ordered_list = merge_sort(list_rand.copy(), True)"
   ]
  },
  {
   "cell_type": "code",
   "execution_count": 175,
   "id": "7d06fd24",
   "metadata": {},
   "outputs": [
    {
     "data": {
      "application/vnd.jupyter.widget-view+json": {
       "model_id": "f47012bdbcd1475d82b84d5f53bf72e3",
       "version_major": 2,
       "version_minor": 0
      },
      "text/plain": [
       "  0%|          | 0/20 [00:00<?, ?it/s]"
      ]
     },
     "metadata": {},
     "output_type": "display_data"
    }
   ],
   "source": [
    "#graph\n",
    "bubble_arr = []\n",
    "insertion_arr =[]\n",
    "merge_arr = []\n",
    "for i in tqdm(range(20)):\n",
    "    list_rand, none, list_size = generate_rand(0, 2_000, 1_000)\n",
    "    start = time.time()\n",
    "    bubble_sort(list_rand.copy())\n",
    "    end = time.time() - start\n",
    "    bubble_arr.append([list_size, end])\n",
    "    start = time.time()\n",
    "    insertion_sort(list_rand.copy())\n",
    "    end = time.time() - start\n",
    "    insertion_arr.append([list_size, end])\n",
    "    start = time.time()\n",
    "    merge_sort(list_rand.copy())\n",
    "    end = time.time() - start\n",
    "    merge_arr.append([list_size, end])"
   ]
  },
  {
   "cell_type": "markdown",
   "id": "53124815",
   "metadata": {},
   "source": [
    "| Algorithm | Best Case | Average Case | Worst Case |\n",
    "| --- | --- | --- | --- |\n",
    "| Merge Sort | O(n log n) | O(n log n) | O(n log n) |\n",
    "| Insertion Sort | O(n) | O(n^2) | O(n^2) |\n",
    "| Bubble Sort | O(n) | O(n^2) | O(n^2) |"
   ]
  },
  {
   "cell_type": "code",
   "execution_count": 174,
   "id": "d92caabe",
   "metadata": {},
   "outputs": [
    {
     "data": {
      "image/png": "[encoded data removed]",
      "text/plain": [
       "<Figure size 432x288 with 1 Axes>"
      ]
     },
     "metadata": {
      "needs_background": "light"
     },
     "output_type": "display_data"
    }
   ],
   "source": [
    "    bubble_arr = sorted(bubble_arr, key=lambda x: x[0])\n",
    "    insertion_arr = sorted(insertion_arr, key=lambda x: x[0])\n",
    "    merge_arr = sorted(merge_arr, key=lambda x: x[0])\n",
    "    \n",
    "    x_one = [item[0] for item in bubble_arr]\n",
    "    y_one = [item[1] for item in bubble_arr]\n",
    "    x_two = [item[0] for item in insertion_arr]\n",
    "    y_two = [item[1] for item in insertion_arr]\n",
    "    x_three = [item[0] for item in merge_arr]\n",
    "    y_three = [item[1] for item in merge_arr]\n",
    "\n",
    "    plt.plot(x_one, y_one, label=\"bubble\")\n",
    "    plt.plot(x_two, y_two, label=\"insertion\")\n",
    "    plt.plot(x_three, y_three, label=\"merge\")\n",
    "\n",
    "    # Add labels to the x and y axes\n",
    "    plt.xlabel('Items')\n",
    "    plt.ylabel('time')\n",
    "\n",
    "    # Add a legend to the plot\n",
    "    plt.legend()\n",
    "    plt.title(\"time complexity\")\n",
    "\n",
    "    # Display the plot\n",
    "    plt.show()"
   ]
  }
 ],
 "metadata": {
  "kernelspec": {
   "display_name": "Python 3 (ipykernel)",
   "language": "python",
   "name": "python3"
  },
  "language_info": {
   "codemirror_mode": {
    "name": "ipython",
    "version": 3
   },
   "file_extension": ".py",
   "mimetype": "text/x-python",
   "name": "python",
   "nbconvert_exporter": "python",
   "pygments_lexer": "ipython3",
   "version": "3.9.7"
  }
 },
 "nbformat": 4,
 "nbformat_minor": 5
}
